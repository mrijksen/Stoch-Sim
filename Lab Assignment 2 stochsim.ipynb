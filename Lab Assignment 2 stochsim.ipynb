{
 "cells": [
  {
   "cell_type": "markdown",
   "metadata": {},
   "source": [
    "# Lab Assignment 2 Stochastic Simulation\n",
    "\n",
    "### Marleen Rijksen (10465030)"
   ]
  },
  {
   "cell_type": "code",
   "execution_count": 26,
   "metadata": {},
   "outputs": [
    {
     "name": "stdout",
     "output_type": "stream",
     "text": [
      "Populating the interactive namespace from numpy and matplotlib\n"
     ]
    },
    {
     "name": "stderr",
     "output_type": "stream",
     "text": [
      "/home/marleen/anaconda3/lib/python3.6/site-packages/IPython/core/magics/pylab.py:161: UserWarning: pylab import has clobbered these variables: ['random', 'std', 'mean']\n",
      "`%matplotlib` prevents importing * from pylab and numpy\n",
      "  \"\\n`%matplotlib` prevents importing * from pylab and numpy\"\n"
     ]
    }
   ],
   "source": [
    "# necessary imports\n",
    "import simpy\n",
    "import numpy as np\n",
    "import time\n",
    "import random\n",
    "%pylab inline\n",
    "pylab.rcParams['figure.figsize'] = [10, 6]"
   ]
  },
  {
   "cell_type": "markdown",
   "metadata": {},
   "source": [
    "### Simulation of Queue\n",
    "The code to simulate the queue is based on a SimPy example. The code of this example can be found on https://simpy.readthedocs.io/en/latest/examples/carwash.html"
   ]
  },
  {
   "cell_type": "code",
   "execution_count": 208,
   "metadata": {
    "collapsed": true
   },
   "outputs": [],
   "source": [
    "\"\"\"\n",
    "Maze\n",
    "\n",
    "Scenario:\n",
    "  A maze has a limited capacity regarding to the number of people\n",
    "  in the maze at a certain time. The time people spend in the maze \n",
    "  is some random value.\n",
    "  \n",
    "  People arrive at the maze at a random time. If the maze is not full\n",
    "  yet then a person can go into the maze and try to find the exit. If\n",
    "  the maze is full the person will wait until someone exits the maze.\n",
    "\n",
    "\"\"\"\n",
    "global guest_information\n",
    "\n",
    "class Maze(object):\n",
    "    \"\"\"A maze has a limited capacity (``CAPACITY``) which is the maximum\n",
    "    number of persons thay can be in the maze at the same time. \n",
    "    \n",
    "    Persons have to request the available spots in the maze. When they\n",
    "    got one, they can start walking through the maze and hope they will\n",
    "    get out at some time (which takes ``EXITTIME`` hours)\n",
    "\n",
    "    \"\"\"\n",
    "    \n",
    "    # create environment and resource\n",
    "    def __init__(self, env, capacity):\n",
    "        self.env = env\n",
    "        self.machine = simpy.PriorityResource(env, capacity)\n",
    "\n",
    "    def walk(self, person, exittime):\n",
    "        \"\"\"The walking processes. It takes a ``guest`` processes and tries\n",
    "        to clean it.\"\"\"\n",
    "        \n",
    "        yield self.env.timeout(exittime)\n",
    "        #print(\"%s gives the maze a score of %d%%.\" %\n",
    "         #     (person, random.randint(1, 99)))\n",
    "\n",
    "        \n",
    "def guest(env, name, mz, service_rate, priority, mdn, mltn):\n",
    "    \"\"\"The person process (each person has a ``name``) arrives at the maze\n",
    "    (``mz``) and requests a spot in the maze\n",
    "\n",
    "    It then starts walking, hopes to finish soon and\n",
    "    leaves to never come back (depending on the score) ...\n",
    "\n",
    "    \"\"\"\n",
    "    \n",
    "    # save arrival time of guest\n",
    "    #print('%s arrives at the maze at %.2f.' % (name, env.now))\n",
    "    arrival_time = env.now\n",
    "\n",
    "    # check for distribution and compute time of service\n",
    "    # deterministic distribution\n",
    "    if mdn == True:\n",
    "        time_of_service = 1 / service_rate\n",
    "        \n",
    "    # longtail (exponential) distribution\n",
    "    elif mltn == True:\n",
    "        rn = np.random.uniform()\n",
    "        if rn < 0.75:\n",
    "            time_of_service = abs(np.random.exponential(1))\n",
    "        else:\n",
    "            time_of_service = abs(np.random.exponential(5))\n",
    "    \n",
    "    # exponential distribution\n",
    "    else:\n",
    "        time_of_service = np.random.exponential(1 / service_rate)\n",
    "            \n",
    "    # check for priority\n",
    "    if priority == True:\n",
    "        prio = time_of_service\n",
    "    else:\n",
    "        prio = 1\n",
    "    \n",
    "    # request maze\n",
    "    with mz.machine.request(priority=prio) as request:\n",
    "        yield request\n",
    "        \n",
    "        # save service time of guest\n",
    "        #print('%s enters the maze at %.2f.' % (name, env.now))\n",
    "        service_time = env.now        \n",
    "        yield env.process(mz.walk(name, time_of_service))\n",
    "        \n",
    "        # save the time of exit of guest\n",
    "        #print('%s leaves the maze at %.2f.' % (name, env.now))\n",
    "        exit_time = env.now  \n",
    "        \n",
    "        # store all data of guest in list\n",
    "        guest_information.append([arrival_time, service_time, exit_time])\n",
    "\n",
    "def setup(env, capacity, arr_rate, service_rate, num_guests, priority, mdn, mltn):\n",
    "    \"\"\"Create a maze, a number of initial persons and keep creating persons\n",
    "    approx. every ``t_inter`` minutes.\"\"\"\n",
    "    \n",
    "    # Create the maze\n",
    "    maze = Maze(env, capacity)\n",
    "\n",
    "    # create initial guest at t=0\n",
    "    i = 1\n",
    "    env.process(guest(env, 'Guest %d' % i, maze, service_rate, priority, mdn, mltn))\n",
    "\n",
    "    # Create more guests while the simulation is running\n",
    "    for j in range(num_guests - 1):\n",
    "        yield env.timeout(np.random.exponential(1 / arr_rate))\n",
    "        i += 1\n",
    "        env.process(guest(env, 'Guest %d' % i, maze, service_rate, priority, mdn, mltn))"
   ]
  },
  {
   "cell_type": "code",
   "execution_count": 8,
   "metadata": {
    "collapsed": true
   },
   "outputs": [],
   "source": [
    "#import matplotlib.pyplot as plt\n",
    "#row = np.array(row)\n",
    "#times = row[:, 0]\n",
    "#queue = row[:, 1]\n",
    "#print(len(queue))\n",
    "#plt.plot(times, queue)\n",
    "#plt.show()\n",
    "    "
   ]
  },
  {
   "cell_type": "code",
   "execution_count": 9,
   "metadata": {
    "collapsed": true
   },
   "outputs": [],
   "source": [
    "# we have our data stored in guest_information\n",
    "# guest_information[0] = arrival_time\n",
    "# guest_information[1] = service_time\n",
    "# guest_information[2] = exit_time"
   ]
  },
  {
   "cell_type": "code",
   "execution_count": 209,
   "metadata": {
    "collapsed": true
   },
   "outputs": [],
   "source": [
    "# function which computes mean and std of waiting time for specified constants\n",
    "def simulate_queue(rho, n, mu, num_guests, num_sims, priority, mdn, mltn, warmup_number):\n",
    "    labda = rho * n * mu           # arrival rate\n",
    "    queue = 0                      # length of queue\n",
    "    mean_waiting_list = []         # list with all means of waiting time\n",
    "    global guest_information\n",
    "    \n",
    "    # iterate over simulations \n",
    "    for i in range(num_sims):\n",
    "        guest_information = []\n",
    "        row = []\n",
    "\n",
    "        # create an environment and start the setup process\n",
    "        env = simpy.Environment()\n",
    "        env.process(setup(env, n, labda, mu, num_guests, priority, mdn, mltn))\n",
    "\n",
    "        # execute simulation\n",
    "        env.run()\n",
    "        \n",
    "        # compute mean every simulation\n",
    "        mean = np.mean(np.array(guest_information)[warmup_number:, 1] - \\\n",
    "                       np.array(guest_information)[warmup_number:, 0])\n",
    "        mean_waiting_list.append(mean)\n",
    "        \n",
    "    # return final mean and std\n",
    "    return np.mean(mean_waiting_list), np.std(mean_waiting_list)"
   ]
  },
  {
   "cell_type": "code",
   "execution_count": 210,
   "metadata": {},
   "outputs": [
    {
     "ename": "TypeError",
     "evalue": "simulate_queue() missing 1 required positional argument: 'warmup_number'",
     "output_type": "error",
     "traceback": [
      "\u001b[0;31m---------------------------------------------------------------------------\u001b[0m",
      "\u001b[0;31mTypeError\u001b[0m                                 Traceback (most recent call last)",
      "\u001b[0;32m<ipython-input-210-871d779c0aba>\u001b[0m in \u001b[0;36m<module>\u001b[0;34m()\u001b[0m\n\u001b[1;32m     12\u001b[0m \u001b[0mmltn\u001b[0m \u001b[0;34m=\u001b[0m \u001b[0;32mTrue\u001b[0m\u001b[0;34m\u001b[0m\u001b[0m\n\u001b[1;32m     13\u001b[0m \u001b[0;34m\u001b[0m\u001b[0m\n\u001b[0;32m---> 14\u001b[0;31m \u001b[0mmean\u001b[0m\u001b[0;34m,\u001b[0m \u001b[0mstd\u001b[0m \u001b[0;34m=\u001b[0m \u001b[0msimulate_queue\u001b[0m\u001b[0;34m(\u001b[0m\u001b[0mrho\u001b[0m\u001b[0;34m,\u001b[0m \u001b[0mn\u001b[0m\u001b[0;34m,\u001b[0m \u001b[0mmu\u001b[0m\u001b[0;34m,\u001b[0m \u001b[0mnum_guests\u001b[0m\u001b[0;34m,\u001b[0m \u001b[0mnum_sims\u001b[0m\u001b[0;34m,\u001b[0m \u001b[0mpriority\u001b[0m\u001b[0;34m,\u001b[0m \u001b[0mmdn\u001b[0m\u001b[0;34m,\u001b[0m \u001b[0mmltn\u001b[0m\u001b[0;34m)\u001b[0m\u001b[0;34m\u001b[0m\u001b[0m\n\u001b[0m\u001b[1;32m     15\u001b[0m \u001b[0mprint\u001b[0m\u001b[0;34m(\u001b[0m\u001b[0mmean\u001b[0m\u001b[0;34m,\u001b[0m \u001b[0mstd\u001b[0m\u001b[0;34m)\u001b[0m\u001b[0;34m\u001b[0m\u001b[0m\n",
      "\u001b[0;31mTypeError\u001b[0m: simulate_queue() missing 1 required positional argument: 'warmup_number'"
     ]
    }
   ],
   "source": []
  },
  {
   "cell_type": "markdown",
   "metadata": {},
   "source": [
    "## Investigate Warm-Up Period\n",
    "For 1 simulation we want to know how the waiting times are during simulation."
   ]
  },
  {
   "cell_type": "code",
   "execution_count": 211,
   "metadata": {},
   "outputs": [],
   "source": [
    "# function which plots the waiting time averages of the first n guests \n",
    "# for multiple simulations\n",
    "def warm_up(rho, n, mu, num_guests, num_sims, priority, mdn, mltn):\n",
    "    global guest_information\n",
    "    waiting_times_sims = []\n",
    "    \n",
    "    # do multiple simulations\n",
    "    for i in range(num_sims):\n",
    "        guest_information = []\n",
    "\n",
    "        # create an environment and start the setup process\n",
    "        env = simpy.Environment()\n",
    "        env.process(setup(env, n, labda, mu, num_guests, priority, mdn, mltn))\n",
    "\n",
    "        # execute simulation\n",
    "        env.run()\n",
    "\n",
    "        # compute mean every simulation\n",
    "        waiting_times = np.array(guest_information)[:, 1] - np.array(guest_information)[:,0]\n",
    "\n",
    "        # generate list of mean waiting times during simulation\n",
    "        mean_waiting_times = []\n",
    "        for i in range(len(waiting_times)):\n",
    "            mean_waiting_times.append(np.mean(waiting_times[0:i + 1]))\n",
    "\n",
    "        # add mean_waiting_times to array of all sims\n",
    "        waiting_times_sims.append(mean_waiting_times)\n",
    "\n",
    "    # compute mean of mean of waiting times for simulations\n",
    "    waiting_times_sims = np.array(waiting_times_sims)\n",
    "    means_sims = np.mean(waiting_times_sims.T, 1)\n",
    "    \n",
    "    # plot mean of mean of waiting times for first n guests\n",
    "    std = np.std(waiting_times_sims.T)\n",
    "    plt.plot(means_sims, c='r')\n",
    "    plt.xlabel('Guest Number')\n",
    "    plt.ylabel('Mean Waiting Time')        \n",
    "        \n",
    "    # determine title depending on distribution\n",
    "    plt.title('Average Waiting Time First n Guests Queue (Longtail Distribution)')\n",
    "    \n",
    "    fill_between(range(num_guests), means_sims-std, means_sims+std,\n",
    "        alpha=0.5, edgecolor='#CC4F1B', facecolor='#FF9848')"
   ]
  },
  {
   "cell_type": "markdown",
   "metadata": {
    "collapsed": true
   },
   "source": [
    "## Investigate the effect of system load on average waiting time and standard deviation for M/M/n queue"
   ]
  },
  {
   "cell_type": "code",
   "execution_count": 212,
   "metadata": {},
   "outputs": [
    {
     "data": {
      "image/png": "[encoded data removed]",
      "text/plain": [
       "<matplotlib.figure.Figure at 0x7f37372f22b0>"
      ]
     },
     "metadata": {},
     "output_type": "display_data"
    }
   ],
   "source": [
    "# first investigate the warm up period\n",
    "# variables and constants \n",
    "rho = 0.9                      # system load\n",
    "n = 1                          # maximal number of persons in maze\n",
    "mu = 0.25 * (1 / 5) + 0.75     # service rate\n",
    "num_guests = 2000              # number of guests we want to simulate\n",
    "num_sims = 300\n",
    "row = []\n",
    "priority = False \n",
    "mdn = False\n",
    "mltn = True\n",
    "labda = rho * n * mu           # arrival rate\n",
    "warm_up(rho, n, mu, num_guests, num_sims, priority, mdn, mltn)"
   ]
  },
  {
   "cell_type": "code",
   "execution_count": 148,
   "metadata": {},
   "outputs": [],
   "source": [
    "# variables and constants \n",
    "n = 1                         # maximal number of persons in maze\n",
    "mu = 1                         # service rate\n",
    "num_guests = 1000              # number of guests we want to simulate\n",
    "num_sims = 200                # number of simulations\n",
    "row = []\n",
    "priority= False\n",
    "mdn = False\n",
    "mltn = False\n",
    "rho_list = [0.1, 0.2, 0.3, 0.4, 0.5, 0.6, 0.7, 0.8, 0.9]\n",
    "\n",
    "# simulate for one server\n",
    "mean_list_1 = []\n",
    "std_list_1 = []\n",
    "\n",
    "# simulate queue for different rhos\n",
    "for rho in rho_list:\n",
    "    mean, std = simulate_queue(rho, n, mu, num_guests, num_sims, priority, mdn, mltn, 500)\n",
    "    mean_list_1.append(mean)\n",
    "    std_list_1.append(std)\n",
    "    \n",
    "# simulate for two servers\n",
    "mean_list_2 = []\n",
    "std_list_2 = []\n",
    "n = 2\n",
    "\n",
    "# simulate queue for different rhos\n",
    "for rho in rho_list:\n",
    "    mean, std = simulate_queue(rho, n, mu, num_guests, num_sims, priority, mdn, mltn, 500)\n",
    "    mean_list_2.append(mean)\n",
    "    std_list_2.append(std)\n",
    "    \n",
    "# simulate for five servers\n",
    "mean_list_4 = []\n",
    "std_list_4 = []\n",
    "n = 4\n",
    "\n",
    "# simulate queue for different rhos\n",
    "for rho in rho_list:\n",
    "    mean, std = simulate_queue(rho, n, mu, num_guests, num_sims, priority, mdn, mltn, 500)\n",
    "    mean_list_4.append(mean)\n",
    "    std_list_4.append(std)"
   ]
  },
  {
   "cell_type": "code",
   "execution_count": 152,
   "metadata": {},
   "outputs": [
    {
     "data": {
      "image/png": "[encoded data removed]",
      "text/plain": [
       "<matplotlib.figure.Figure at 0x7f37370bf080>"
      ]
     },
     "metadata": {},
     "output_type": "display_data"
    }
   ],
   "source": [
    "# plot std vs rho\n",
    "plt.plot(rho_list, std_list_1, label='n = 1')\n",
    "plt.plot(rho_list, std_list_2, label='n = 2')\n",
    "plt.plot(rho_list, std_list_4, label='n = 4')\n",
    "plt.title('The Standard Deviation for M/M/n Queue Simulations')\n",
    "plt.xlabel('System Load (Rho)')\n",
    "plt.ylabel('Standard Deviation')\n",
    "plt.grid()\n",
    "plt.legend()\n",
    "plt.show()"
   ]
  },
  {
   "cell_type": "code",
   "execution_count": 153,
   "metadata": {},
   "outputs": [
    {
     "data": {
      "image/png": "[encoded data removed]",
      "text/plain": [
       "<matplotlib.figure.Figure at 0x7f37354a88d0>"
      ]
     },
     "metadata": {},
     "output_type": "display_data"
    }
   ],
   "source": [
    "# plot mean vs rho\n",
    "plt.plot(rho_list, mean_list_1, label='n = 1')\n",
    "plt.plot(rho_list, mean_list_2, label='n = 2')\n",
    "plt.plot(rho_list, mean_list_4, label='n = 4')\n",
    "plt.title('The Average Waiting Time for M/M/n Queue Simulations')\n",
    "plt.xlabel('System Load (Rho)')\n",
    "plt.ylabel('Standard Deviation')\n",
    "plt.legend()\n",
    "plt.grid()\n",
    "plt.show()"
   ]
  },
  {
   "cell_type": "markdown",
   "metadata": {},
   "source": [
    "### Result M/M/1 Queue"
   ]
  },
  {
   "cell_type": "code",
   "execution_count": 173,
   "metadata": {},
   "outputs": [],
   "source": [
    "# variables and constants \n",
    "n = 1                         # maximal number of persons in maze\n",
    "mu = 1                         # service rate\n",
    "num_guests = 1000              # number of guests we want to simulate\n",
    "num_sims = 3000               # number of simulations\n",
    "row = []\n",
    "priority= False\n",
    "mdn = False\n",
    "mltn = False\n",
    "rho = 0.9\n",
    "\n",
    "mean, std = simulate_queue(rho, n, mu, num_guests, num_sims, priority, mdn, mltn, 500)\n",
    "conf_int = 1.96 * std / np.sqrt(num_sims)"
   ]
  },
  {
   "cell_type": "code",
   "execution_count": 175,
   "metadata": {},
   "outputs": [
    {
     "name": "stdout",
     "output_type": "stream",
     "text": [
      "9.03782502945 6.52503411183 0.233495346941\n"
     ]
    }
   ],
   "source": [
    "print(mean, std, conf_int)"
   ]
  },
  {
   "cell_type": "markdown",
   "metadata": {},
   "source": [
    "### Results M/M/2 Queue"
   ]
  },
  {
   "cell_type": "code",
   "execution_count": 177,
   "metadata": {},
   "outputs": [],
   "source": [
    "# variables and constants \n",
    "n = 2                         # maximal number of persons in maze\n",
    "mu = 1                         # service rate\n",
    "num_guests = 1000              # number of guests we want to simulate\n",
    "num_sims = 3000               # number of simulations\n",
    "row = []\n",
    "priority= False\n",
    "mdn = False\n",
    "mltn = False\n",
    "rho = 0.9\n",
    "\n",
    "mean, std = simulate_queue(rho, n, mu, num_guests, num_sims, priority, mdn, mltn, 500)\n",
    "conf_int = 1.96 * std / np.sqrt(num_sims)"
   ]
  },
  {
   "cell_type": "code",
   "execution_count": 178,
   "metadata": {},
   "outputs": [
    {
     "name": "stdout",
     "output_type": "stream",
     "text": [
      "4.25960256122 3.21504903492 0.115049052154\n"
     ]
    }
   ],
   "source": [
    "print(mean, std, conf_int)"
   ]
  },
  {
   "cell_type": "markdown",
   "metadata": {},
   "source": [
    "### Results M/M/4 Queue"
   ]
  },
  {
   "cell_type": "code",
   "execution_count": 179,
   "metadata": {
    "collapsed": true
   },
   "outputs": [],
   "source": [
    "# variables and constants \n",
    "n = 4                         # maximal number of persons in maze\n",
    "mu = 1                         # service rate\n",
    "num_guests = 1000              # number of guests we want to simulate\n",
    "num_sims = 3000               # number of simulations\n",
    "row = []\n",
    "priority= False\n",
    "mdn = False\n",
    "mltn = False\n",
    "rho = 0.9\n",
    "\n",
    "mean, std = simulate_queue(rho, n, mu, num_guests, num_sims, priority, mdn, mltn, 500)\n",
    "conf_int = 1.96 * std / np.sqrt(num_sims)"
   ]
  },
  {
   "cell_type": "code",
   "execution_count": 180,
   "metadata": {},
   "outputs": [
    {
     "name": "stdout",
     "output_type": "stream",
     "text": [
      "1.91408000148 1.5795935333 0.0565250286453\n"
     ]
    }
   ],
   "source": [
    "print(mean, std, conf_int)"
   ]
  },
  {
   "cell_type": "markdown",
   "metadata": {},
   "source": [
    "### Results M/M/1 Queue with priority"
   ]
  },
  {
   "cell_type": "code",
   "execution_count": 185,
   "metadata": {
    "collapsed": true
   },
   "outputs": [],
   "source": [
    "# variables and constants \n",
    "n = 1                         # maximal number of persons in maze\n",
    "mu = 1                         # service rate\n",
    "num_guests = 900              # number of guests we want to simulate\n",
    "num_sims = 3000               # number of simulations\n",
    "row = []\n",
    "priority = True\n",
    "mdn = False\n",
    "mltn = False\n",
    "rho = 0.9\n",
    "\n",
    "mean, std = simulate_queue(rho, n, mu, num_guests, num_sims, priority, mdn, mltn, 400)\n",
    "conf_int = 1.96 * std / np.sqrt(num_sims)"
   ]
  },
  {
   "cell_type": "code",
   "execution_count": 187,
   "metadata": {},
   "outputs": [
    {
     "name": "stdout",
     "output_type": "stream",
     "text": [
      "3.34535661752 1.6656050702 0.0596029119645\n"
     ]
    }
   ],
   "source": [
    "print(mean, std, conf_int)"
   ]
  },
  {
   "cell_type": "markdown",
   "metadata": {},
   "source": [
    "### Results M/D/1 Queue"
   ]
  },
  {
   "cell_type": "code",
   "execution_count": 188,
   "metadata": {
    "collapsed": true
   },
   "outputs": [],
   "source": [
    "# variables and constants \n",
    "n = 1                         # maximal number of persons in maze\n",
    "mu = 1                         # service rate\n",
    "num_guests = 1000              # number of guests we want to simulate\n",
    "num_sims = 3000               # number of simulations\n",
    "row = []\n",
    "priority = False\n",
    "mdn = True\n",
    "mltn = False\n",
    "rho = 0.9\n",
    "\n",
    "mean, std = simulate_queue(rho, n, mu, num_guests, num_sims, priority, mdn, mltn, 500)\n",
    "conf_int = 1.96 * std / np.sqrt(num_sims)"
   ]
  },
  {
   "cell_type": "code",
   "execution_count": 189,
   "metadata": {},
   "outputs": [
    {
     "name": "stdout",
     "output_type": "stream",
     "text": [
      "4.39601488058 2.27550221052 0.0814278008365\n"
     ]
    }
   ],
   "source": [
    "print(mean, std, conf_int)"
   ]
  },
  {
   "cell_type": "markdown",
   "metadata": {},
   "source": [
    "### Results Queue With Longtail Distribution"
   ]
  },
  {
   "cell_type": "code",
   "execution_count": 213,
   "metadata": {},
   "outputs": [],
   "source": [
    "# variables and constants \n",
    "n = 1                         # maximal number of persons in maze\n",
    "mu = 0.25 * 1 / 5 + 0.75 * 1      # service rate\n",
    "num_guests = 750              # number of guests we want to simulate\n",
    "num_sims = 3000               # number of simulations\n",
    "row = []\n",
    "priority = False\n",
    "mdn = False\n",
    "mltn = True\n",
    "rho = 0.9\n",
    "\n",
    "mean, std = simulate_queue(rho, n, mu, num_guests, num_sims, priority, mdn, mltn, 250)\n",
    "conf_int = 1.96 * std / np.sqrt(num_sims)"
   ]
  },
  {
   "cell_type": "code",
   "execution_count": 203,
   "metadata": {},
   "outputs": [
    {
     "name": "stdout",
     "output_type": "stream",
     "text": [
      "312.938329449 71.5174202723 8.09295796181\n"
     ]
    }
   ],
   "source": [
    "print(mean, std, conf_int)"
   ]
  }
 ],
 "metadata": {
  "kernelspec": {
   "display_name": "Python 3",
   "language": "python",
   "name": "python3"
  },
  "language_info": {
   "codemirror_mode": {
    "name": "ipython",
    "version": 3
   },
   "file_extension": ".py",
   "mimetype": "text/x-python",
   "name": "python",
   "nbconvert_exporter": "python",
   "pygments_lexer": "ipython3",
   "version": "3.6.1"
  }
 },
 "nbformat": 4,
 "nbformat_minor": 2
}
