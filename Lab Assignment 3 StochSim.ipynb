{
 "cells": [
  {
   "cell_type": "markdown",
   "metadata": {},
   "source": [
    "# Lab Assignment 3\n",
    "\n",
    "### Marleen Rijksen (10465030)"
   ]
  },
  {
   "cell_type": "code",
   "execution_count": null,
   "metadata": {},
   "outputs": [],
   "source": [
    "# import parser file to get .tsp data\n",
    "import parser_final\n",
    "\n",
    "# necessary packages\n",
    "\n",
    "import ast\n",
    "\n",
    "import sys\n",
    "import csv\n",
    "csv.field_size_limit(sys.maxsize)\n",
    "import random\n",
    "import numpy as np\n",
    "%pylab inline\n",
    "pylab.rcParams['figure.figsize'] = [10, 6]"
   ]
  },
  {
   "cell_type": "code",
   "execution_count": null,
   "metadata": {
    "collapsed": true
   },
   "outputs": [],
   "source": [
    "# load data\n",
    "#city_list = parser_final.produce_final('a280.tsp.txt')\n",
    "file = \"eil51.tsp.txt\"\n",
    "data = parser_final.read_tsp_data(file)\n",
    "dimension = parser_final.detect_dimension(data)\n",
    "city_list = parser_final.get_cities(data,dimension)"
   ]
  },
  {
   "cell_type": "code",
   "execution_count": null,
   "metadata": {},
   "outputs": [],
   "source": [
    "plot_route(city_list)"
   ]
  },
  {
   "cell_type": "code",
   "execution_count": null,
   "metadata": {
    "collapsed": true
   },
   "outputs": [],
   "source": [
    "# function to create distance matrix\n",
    "def dist_matrix(city_list):\n",
    "    matrix = np.zeros([len(city_list), len(city_list)], dtype=int)\n",
    "    \n",
    "    # iterate over all possible distances\n",
    "    for i in range(len(city_list)):\n",
    "        for j in range(len(city_list)):\n",
    "            distance = int(round(np.sqrt((city_list[i][1][0] - city_list[j][1][0]) ** 2 + \\\n",
    "                           (city_list[i][1][1] - city_list[j][1][1]) ** 2)))\n",
    "            matrix[i][j] = distance\n",
    "    return matrix"
   ]
  },
  {
   "cell_type": "code",
   "execution_count": null,
   "metadata": {
    "collapsed": true
   },
   "outputs": [],
   "source": [
    "def distance2(indice_list, city_list, distance_matrix):\n",
    "    total_distance = 0\n",
    "    \n",
    "    # iterate over all cities\n",
    "    for i in range(len(indice_list) - 1):\n",
    "        \n",
    "        # define start and end city\n",
    "        start = indice_list[i]\n",
    "        end = indice_list[i + 1]\n",
    "        \n",
    "        # add distance between cities\n",
    "        total_distance += distance_matrix[start - 1][end - 1]\n",
    "    \n",
    "    # add final distance\n",
    "    total_distance += distance_matrix[indice_list[-1] - 1][indice_list[0] - 1]\n",
    "    return total_distance\n",
    "        "
   ]
  },
  {
   "cell_type": "code",
   "execution_count": null,
   "metadata": {
    "collapsed": true
   },
   "outputs": [],
   "source": [
    "# function to plot route between cities\n",
    "def plot_route(city_list):\n",
    "    \n",
    "    # get x and y coordinates of visited cities\n",
    "    x_coordinates = [tup[1][0] for tup in city_list]\n",
    "    y_coordinates = [tup[1][1] for tup in city_list]\n",
    "    \n",
    "    # finish route\n",
    "    x_coordinates.append(x_coordinates[0])\n",
    "    y_coordinates.append(y_coordinates[0])\n",
    "    \n",
    "    # plot city and line between them \n",
    "    plt.plot(x_coordinates, y_coordinates)\n",
    "    plt.scatter(x_coordinates, y_coordinates)\n",
    "    plt.title('Route for 51 Cities')\n",
    "    plt.xlabel('X coordinate')\n",
    "    plt.ylabel('Y coordinate')\n",
    "    plt.show()"
   ]
  },
  {
   "cell_type": "code",
   "execution_count": null,
   "metadata": {
    "collapsed": true
   },
   "outputs": [],
   "source": [
    "# function for two opt with indices\n",
    "def two_opt2(indice_list):\n",
    "    \n",
    "    # take two random numbers\n",
    "    i = np.random.randint(0, len(indice_list))\n",
    "    j = np.random.randint(0, len(indice_list))\n",
    "    \n",
    "    # smallest number is first index\n",
    "    x = min(i, j)\n",
    "    y = max(i, j)\n",
    "    \n",
    "    # switch route between city indices\n",
    "    new_route = [city for city in indice_list[0:x]]\n",
    "    new_route.extend(list(reversed([city for city in indice_list[x:y + 1]])))\n",
    "    new_route.extend([city for city in indice_list[y + 1:]])\n",
    "    return new_route    \n",
    "\n",
    "# function for city replacement algorithm\n",
    "def replace(indice_list):\n",
    "    \n",
    "    # take two random numbers\n",
    "    i = np.random.randint(0, len(indice_list))\n",
    "    j = np.random.randint(0, len(indice_list))\n",
    "    \n",
    "    # choose city to switch\n",
    "    indice = indice_list[i]\n",
    "    \n",
    "    # remove from list\n",
    "    indice_list.remove(indice)\n",
    "    \n",
    "    # insert list in new position\n",
    "    indice_list.insert(j, indice)\n",
    "    \n",
    "    return indice_list    "
   ]
  },
  {
   "cell_type": "code",
   "execution_count": null,
   "metadata": {
    "collapsed": true
   },
   "outputs": [],
   "source": [
    "# function to check file for integers\n",
    "def RepresentsInt(s):\n",
    "    try: \n",
    "        int(s)\n",
    "        return True\n",
    "    except ValueError:\n",
    "        return False"
   ]
  },
  {
   "cell_type": "code",
   "execution_count": null,
   "metadata": {
    "collapsed": true
   },
   "outputs": [],
   "source": [
    "# function to find route based on indices\n",
    "def find_route(indice_list, city_list):\n",
    "    opt_route = []\n",
    "    for i in indice_list:\n",
    "        opt_route.append(tuple(city_list[i - 1]))\n",
    "    return opt_route   "
   ]
  },
  {
   "cell_type": "code",
   "execution_count": null,
   "metadata": {
    "collapsed": true
   },
   "outputs": [],
   "source": [
    "# function to do the simulated annealing with indices\n",
    "def sim_annealing2(indice_list, city_list, dist_matrix, chain_length, T, T_min, num_steps, lin):\n",
    "    \n",
    "    # list to keep track of distance\n",
    "    dist_list = []\n",
    "    \n",
    "    # create random solution\n",
    "    np.random.shuffle(indice_list)\n",
    "    \n",
    "    # compute length of this tour\n",
    "    dist = distance2(indice_list, city_list, dist_matrix)\n",
    "    \n",
    "    # cumulative acceptance rate\n",
    "    cm_accep_list = []\n",
    "    accept = 0\n",
    "    count = 0\n",
    "    \n",
    "    # constants\n",
    "    T_0 = T\n",
    "    smallest_dist = 500000\n",
    "    alpha = (T_min / T_0) ** (1 / num_steps)\n",
    "    \n",
    "    # decide when to plot\n",
    "    plotting_T = [20, 15, 10, 9, 8, 7, 6.5, 6, 5.5, 5, 4.5, 4, 3.5, 3, 2.5, 2, 1, 0.75, 0.5, 0.25, 0.2, 0.15, 0.10, 0.05, 0]\n",
    "    j = 0\n",
    "    \n",
    "    # plot starting solution\n",
    "#     print(plotting_T[0], distance2(indice_list, city_list, dist_matrix))\n",
    "#     plot_route(find_route(indice_list, city_list))\n",
    "    \n",
    "    # keep iterating\n",
    "    while T > T_min:\n",
    "        \n",
    "        # iterate over Markov Chain\n",
    "        for i in range(chain_length):\n",
    "            count += 1\n",
    "            dist_list.append(dist)\n",
    "        \n",
    "            # generate new solution with two opt\n",
    "            new_indice_list = indice_list.copy()\n",
    "            new_indice_list = two_opt2(new_indice_list)\n",
    "#             new_indice_list = replace(new_indice_list)\n",
    "            \n",
    "            # compute new distance\n",
    "            new_dist = distance2(new_indice_list, city_list, dist_matrix)\n",
    "            \n",
    "            # search for overall minimum\n",
    "            if new_dist < smallest_dist:\n",
    "                smallest_dist = new_dist\n",
    "                best_indice_list = new_indice_list.copy()\n",
    "                \n",
    "            # compute acceptance probability\n",
    "            p = min(1, np.exp((dist - new_dist) / T))\n",
    "\n",
    "            # determine to accept new state or not\n",
    "            rn = np.random.uniform()\n",
    "            if rn < p:\n",
    "                dist = new_dist\n",
    "                indice_list = new_indice_list\n",
    "                accept += 1\n",
    "                \n",
    "            cm_accep_list.append(accept / count)\n",
    "            \n",
    "#         # plot for certain temperatures\n",
    "#         if T <= plotting_T[j]:\n",
    "#             print(plotting_T[j], distance2(indice_list, city_list, dist_matrix))\n",
    "#             plot_route(find_route(indice_list, city_list))\n",
    "#             j += 1\n",
    "        \n",
    "        # lower temperature with linear scheme\n",
    "        if lin == False:\n",
    "            T *= alpha\n",
    "            \n",
    "        # exponential scheme\n",
    "        elif lin == True:\n",
    "            T -= (T_0 - T_min) / num_steps\n",
    "    return best_indice_list, smallest_dist, dist_list, cm_accep_list"
   ]
  },
  {
   "cell_type": "markdown",
   "metadata": {},
   "source": [
    "## Try out different cooling down schedules and starting temperatures for 51 cities"
   ]
  },
  {
   "cell_type": "code",
   "execution_count": null,
   "metadata": {
    "collapsed": true
   },
   "outputs": [],
   "source": [
    "# create indice list and distance matrix\n",
    "indice_list = [tup[0] for tup in city_list]\n",
    "d_m = dist_matrix(city_list)\n",
    "                  \n",
    "# store all dist lists\n",
    "all_indice_list = []\n",
    "all_smallest_dist = []\n",
    "all_dist_list = []\n",
    "all_cm_accep_list = []\n",
    "\n",
    "# do multiple simulations for each temperature\n",
    "for i in range(50):\n",
    "\n",
    "    # execute simulated annealing\n",
    "    chain_length = 1\n",
    "    T_start = \n",
    "    T_min = 0.01\n",
    "    num_steps = 1e5\n",
    "    indice_list, smallest_dist, dist_list, cm_accep_list = sim_annealing2(indice_list, city_list, d_m, chain_length, \\\n",
    "                                                                          T_start, T_min, num_steps, True)\n",
    "    # store all data\n",
    "    all_indice_list.append(indice_list)\n",
    "    all_dist_list.append(dist_list)\n",
    "    all_smallest_dist.append(smallest_dist)\n",
    "    all_cm_accep_list.append(cm_accep_list)\n",
    "\n",
    "# write all data to csv files\n",
    "with open('51_2exp_all_indices.csv', 'w') as myfile:\n",
    "    wr = csv.writer(myfile, quoting=csv.QUOTE_ALL)\n",
    "    wr.writerow(all_indice_list)\n",
    "myfile.close()\n",
    "with open('51_2exp_all_dist.csv', 'w') as myfile:\n",
    "    wr = csv.writer(myfile, quoting=csv.QUOTE_ALL)\n",
    "    wr.writerow(all_dist_list)\n",
    "myfile.close()\n",
    "with open('51_2exp_all_cm_accep_list.csv', 'w') as myfile:\n",
    "    wr = csv.writer(myfile, quoting=csv.QUOTE_ALL)\n",
    "    wr.writerow(all_cm_accep_list)\n",
    "myfile.close()\n",
    "with open('51_2exp_smallest_dist.csv', 'w') as myfile:\n",
    "    wr = csv.writer(myfile, quoting=csv.QUOTE_ALL)\n",
    "    wr.writerow(all_smallest_dist)\n",
    "myfile.close()"
   ]
  },
  {
   "cell_type": "markdown",
   "metadata": {},
   "source": [
    "## Investigate Data"
   ]
  },
  {
   "cell_type": "code",
   "execution_count": null,
   "metadata": {
    "collapsed": true
   },
   "outputs": [],
   "source": [
    "csvlist = []\n",
    "distlist = []\n",
    "cmlist = []\n",
    "T_start = 2\n",
    "\n",
    "# open data and store in lists\n",
    "with open('51_{}exp_all_dist.csv'.format(T_start), 'r') as myfile:\n",
    "    wr = csv.reader(myfile, quoting=csv.QUOTE_ALL)\n",
    "    for row in wr:\n",
    "        for li in row:\n",
    "            distlist.append(ast.literal_eval(li))\n",
    "with open('51_{}exp_all_cm_accep_list.csv'.format(T_start), 'r') as myfile:\n",
    "    wr = csv.reader(myfile, quoting=csv.QUOTE_ALL)\n",
    "    for row in wr:\n",
    "        for li in row:\n",
    "            cmlist.append(ast.literal_eval(li))"
   ]
  },
  {
   "cell_type": "code",
   "execution_count": null,
   "metadata": {},
   "outputs": [],
   "source": [
    "# find means and stds\n",
    "mean_distances = np.array(mean(distlist, 0))\n",
    "std_distances = np.array(std(distlist, 0))\n",
    "mean_cm_accep_rates = np.array(mean(cmlist, 0))\n",
    "std_cm_rates = np.array(std(cmlist, 0))\n",
    "num_steps = len(mean_distances)\n",
    "\n",
    "# plot mean distances\n",
    "plt.figure(1)\n",
    "plt.plot(mean_distances, 'b', label='Mean Distances')\n",
    "# fill_between(range(num_steps), mean_distances - std_distances, mean_distances + std_distances,\n",
    "#         alpha=0.5, edgecolor='#CC4F1B', facecolor='#FF9848')\n",
    "fill_between(range(num_steps), mean_distances - std_distances, mean_distances + std_distances,\n",
    "         facecolor='r', label='Standard Deviation of Mean Distances')\n",
    "plt.xlabel('Number of Iterations')\n",
    "plt.ylabel('Mean Distance')\n",
    "plt.title('Mean Distance Found After Each Iteration for Exponential Cooling, Starting Temperature = {}'.format(T_start))\n",
    "plt.plot([0, 100000], [426, 426], 'g', label='Optimal Solution')\n",
    "plt.legend()\n",
    "plt.savefig('51_{}_exp_mean_distance.pdf'.format(T_start), format='pdf')\n",
    "\n",
    "# plot mean acceptance rate\n",
    "plt.figure(2)\n",
    "plt.plot(mean_cm_accep_rates, 'b')\n",
    "plt.title('Mean Acceptance Rate for Exponential Cooling, Starting Temperature = {}'.format(T_start))\n",
    "plt.xlabel('Number of Iterations')\n",
    "plt.ylabel('Mean Acceptance Rate')\n",
    "plt.savefig('51_{}_exp_mean_cm_rates.pdf'.format(T_start), format='pdf')\n",
    "\n",
    "# print final convergence value\n",
    "print('Final (Mean) Distance', mean_distances[-1])\n",
    "\n"
   ]
  },
  {
   "cell_type": "markdown",
   "metadata": {},
   "source": [
    "## Try out different cooling down schedules and starting temperatures for 281 cities"
   ]
  },
  {
   "cell_type": "code",
   "execution_count": null,
   "metadata": {},
   "outputs": [],
   "source": [
    "file = \"a280.tsp.txt\"\n",
    "data = parser_final.read_tsp_data(file)\n",
    "dimension = parser_final.detect_dimension(data)\n",
    "city_list = parser_final.get_cities(data,dimension)\n",
    "\n",
    "# create indice list and distance matrix\n",
    "indice_list = [tup[0] for tup in city_list]\n",
    "d_m = dist_matrix(city_list)\n",
    "                  \n",
    "# store all dist lists\n",
    "all_indice_list = []\n",
    "all_smallest_dist = []\n",
    "all_dist_list = []\n",
    "all_cm_accep_list = []\n",
    "\n",
    "# do multiple simulations for each temperature\n",
    "for i in range(50):\n",
    "\n",
    "    # execute simulated annealing\n",
    "    chain_length = 1\n",
    "    T_start = 20\n",
    "    T_min = 0.01\n",
    "    num_steps = 1e6\n",
    "    indice_list, smallest_dist, dist_list, cm_accep_list = sim_annealing2(indice_list, city_list, d_m, chain_length, \\\n",
    "                                                                          T_start, T_min, num_steps, False)\n",
    "    # store all data\n",
    "    all_indice_list.append(indice_list)\n",
    "    all_dist_list.append(dist_list)\n",
    "    all_smallest_dist.append(smallest_dist)\n",
    "    all_cm_accep_list.append(cm_accep_list)\n",
    "\n",
    "# write all data to csv files\n",
    "with open('281_20Fexp_all_indices.csv', 'w') as myfile:\n",
    "    wr = csv.writer(myfile, quoting=csv.QUOTE_ALL)\n",
    "    wr.writerow(all_indice_list)\n",
    "myfile.close()\n",
    "with open('281_20Fexp_all_dist.csv', 'w') as myfile:\n",
    "    wr = csv.writer(myfile, quoting=csv.QUOTE_ALL)\n",
    "    wr.writerow(all_dist_list)\n",
    "myfile.close()\n",
    "with open('281_20Fexp_all_cm_accep_list.csv', 'w') as myfile:\n",
    "    wr = csv.writer(myfile, quoting=csv.QUOTE_ALL)\n",
    "    wr.writerow(all_cm_accep_list)\n",
    "myfile.close()\n",
    "with open('281_20Fexp_smallest_dist.csv', 'w') as myfile:\n",
    "    wr = csv.writer(myfile, quoting=csv.QUOTE_ALL)\n",
    "    wr.writerow(all_smallest_dist)\n",
    "myfile.close()\n",
    "\n"
   ]
  },
  {
   "cell_type": "markdown",
   "metadata": {},
   "source": [
    "## Investigate Data"
   ]
  },
  {
   "cell_type": "code",
   "execution_count": null,
   "metadata": {},
   "outputs": [],
   "source": [
    "csvlist = []\n",
    "distlist = []\n",
    "cmlist = []\n",
    "T_start = 50\n",
    "\n",
    "# open data and store in lists\n",
    "with open('51_{}exp_all_dist.csv'.format(T_start), 'r') as myfile:\n",
    "    wr = csv.reader(myfile, quoting=csv.QUOTE_ALL)\n",
    "    for row in wr:\n",
    "        for li in row:\n",
    "            distlist.append(ast.literal_eval(li))\n",
    "with open('51_{}exp_all_cm_accep_list.csv'.format(T_start), 'r') as myfile:\n",
    "    wr = csv.reader(myfile, quoting=csv.QUOTE_ALL)\n",
    "    for row in wr:\n",
    "        for li in row:\n",
    "            cmlist.append(ast.literal_eval(li))"
   ]
  },
  {
   "cell_type": "code",
   "execution_count": null,
   "metadata": {},
   "outputs": [],
   "source": [
    "# find means and stds\n",
    "mean_distances = np.array(mean(distlist, 0))\n",
    "std_distances = np.array(std(distlist, 0))\n",
    "mean_cm_accep_rates = np.array(mean(cmlist, 0))\n",
    "std_cm_rates = np.array(std(cmlist, 0))\n",
    "num_steps = len(mean_distances)\n",
    "\n",
    "# plot mean distances\n",
    "plt.figure(1)\n",
    "plt.plot(mean_distances, 'b', label='Mean Distances')\n",
    "# fill_between(range(num_steps), mean_distances - std_distances, mean_distances + std_distances,\n",
    "#         alpha=0.5, edgecolor='#CC4F1B', facecolor='#FF9848')\n",
    "fill_between(range(num_steps), mean_distances - std_distances, mean_distances + std_distances,\n",
    "         facecolor='r', label='Standard Deviation of Mean Distances')\n",
    "plt.xlabel('Number of Iterations')\n",
    "plt.ylabel('Mean Distance')\n",
    "plt.title('Mean Distance Found After Each Iteration for Exponential Cooling, Starting Temperature = {}'.format(T_start))\n",
    "plt.plot([0, 1000000], [426, 426], 'g', label='Optimal Solution')\n",
    "plt.legend()\n",
    "plt.savefig('51_{}_exp_mean_distance.pdf'.format(T_start), format='pdf')\n",
    "\n",
    "# plot mean acceptance rate\n",
    "plt.figure(2)\n",
    "plt.plot(mean_cm_accep_rates, 'b')\n",
    "plt.title('Mean Acceptance Rate for Exponential Cooling, Starting Temperature = {}'.format(T_start))\n",
    "plt.xlabel('Number of Iterations')\n",
    "plt.ylabel('Mean Acceptance Rate')\n",
    "plt.savefig('51_{}_exp_mean_cm_rates.pdf'.format(T_start), format='pdf')\n",
    "\n",
    "# print final convergence value\n",
    "print(len(distlist))\n",
    "print('Final (Mean) Distance', mean_distances[-1])\n",
    "print('95% Confidence Interval', 1.96 * std_distances[-1] / np.sqrt(len(distlist)))\n",
    "\n"
   ]
  },
  {
   "cell_type": "code",
   "execution_count": null,
   "metadata": {},
   "outputs": [],
   "source": [
    "# find minimum of all simulations\n",
    "minimum = 999999999\n",
    "for li in distlist:\n",
    "    new_minimum = min(li)\n",
    "    if new_minimum < minimum:\n",
    "        minimum = new_minimum\n",
    "print(\"Absolute minimum:\", minimum)"
   ]
  },
  {
   "cell_type": "markdown",
   "metadata": {},
   "source": [
    "## Visualization of Optimal Solution"
   ]
  },
  {
   "cell_type": "code",
   "execution_count": null,
   "metadata": {},
   "outputs": [],
   "source": [
    "# optimal solution\n",
    "opt_indices = []\n",
    "\n",
    "# search for optimal solution in file\n",
    "file = open('a280.opt.tour.txt', 'r') \n",
    "for line in file: \n",
    "    if RepresentsInt(line):\n",
    "        opt_indices.append(int(line))\n",
    "        \n",
    "# optimal route\n",
    "route = find_route(opt_indices[:len(opt_indices) - 1], city_list)\n",
    "print('Optimal distance:', distance2(opt_indices[:len(opt_indices) - 1], city_list, d_m))\n",
    "plot_route(route)\n",
    "\n",
    "# found route\n",
    "route_found = find_route(res[1], city_list)\n",
    "print(\"Found distance:\", res[2])\n",
    "plot_route(route_found)\n",
    "\n",
    "# plot of distance trough simulation\n",
    "plt.plot(res[3])\n",
    "\n",
    "# plot cumulative acceptance rate\n",
    "plt.figure(3)\n",
    "plt.plot(res[4])"
   ]
  },
  {
   "cell_type": "code",
   "execution_count": null,
   "metadata": {
    "collapsed": true
   },
   "outputs": [],
   "source": []
  }
 ],
 "metadata": {
  "kernelspec": {
   "display_name": "Python 3",
   "language": "python",
   "name": "python3"
  },
  "language_info": {
   "codemirror_mode": {
    "name": "ipython",
    "version": 3
   },
   "file_extension": ".py",
   "mimetype": "text/x-python",
   "name": "python",
   "nbconvert_exporter": "python",
   "pygments_lexer": "ipython3",
   "version": "3.6.1"
  }
 },
 "nbformat": 4,
 "nbformat_minor": 2
}
